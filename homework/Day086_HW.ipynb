{
 "cells": [
  {
   "cell_type": "markdown",
   "metadata": {},
   "source": [
    "## Work\n",
    "1. 試比較 save_best_only 與否的差異\n",
    "2. 請僅存入將 save_weights_only 設定為 True, 並嘗試 reset ipynb 並將模型與權重重新建回並預測 x_test"
   ]
  },
  {
   "cell_type": "code",
   "execution_count": 1,
   "metadata": {},
   "outputs": [
    {
     "name": "stderr",
     "output_type": "stream",
     "text": [
      "Using TensorFlow backend.\n",
      "C:\\ProgramData\\Anaconda3\\lib\\site-packages\\tensorflow\\python\\framework\\dtypes.py:516: FutureWarning: Passing (type, 1) or '1type' as a synonym of type is deprecated; in a future version of numpy, it will be understood as (type, (1,)) / '(1,)type'.\n",
      "  _np_qint8 = np.dtype([(\"qint8\", np.int8, 1)])\n",
      "C:\\ProgramData\\Anaconda3\\lib\\site-packages\\tensorflow\\python\\framework\\dtypes.py:517: FutureWarning: Passing (type, 1) or '1type' as a synonym of type is deprecated; in a future version of numpy, it will be understood as (type, (1,)) / '(1,)type'.\n",
      "  _np_quint8 = np.dtype([(\"quint8\", np.uint8, 1)])\n",
      "C:\\ProgramData\\Anaconda3\\lib\\site-packages\\tensorflow\\python\\framework\\dtypes.py:518: FutureWarning: Passing (type, 1) or '1type' as a synonym of type is deprecated; in a future version of numpy, it will be understood as (type, (1,)) / '(1,)type'.\n",
      "  _np_qint16 = np.dtype([(\"qint16\", np.int16, 1)])\n",
      "C:\\ProgramData\\Anaconda3\\lib\\site-packages\\tensorflow\\python\\framework\\dtypes.py:519: FutureWarning: Passing (type, 1) or '1type' as a synonym of type is deprecated; in a future version of numpy, it will be understood as (type, (1,)) / '(1,)type'.\n",
      "  _np_quint16 = np.dtype([(\"quint16\", np.uint16, 1)])\n",
      "C:\\ProgramData\\Anaconda3\\lib\\site-packages\\tensorflow\\python\\framework\\dtypes.py:520: FutureWarning: Passing (type, 1) or '1type' as a synonym of type is deprecated; in a future version of numpy, it will be understood as (type, (1,)) / '(1,)type'.\n",
      "  _np_qint32 = np.dtype([(\"qint32\", np.int32, 1)])\n",
      "C:\\ProgramData\\Anaconda3\\lib\\site-packages\\tensorflow\\python\\framework\\dtypes.py:525: FutureWarning: Passing (type, 1) or '1type' as a synonym of type is deprecated; in a future version of numpy, it will be understood as (type, (1,)) / '(1,)type'.\n",
      "  np_resource = np.dtype([(\"resource\", np.ubyte, 1)])\n",
      "C:\\ProgramData\\Anaconda3\\lib\\site-packages\\tensorboard\\compat\\tensorflow_stub\\dtypes.py:541: FutureWarning: Passing (type, 1) or '1type' as a synonym of type is deprecated; in a future version of numpy, it will be understood as (type, (1,)) / '(1,)type'.\n",
      "  _np_qint8 = np.dtype([(\"qint8\", np.int8, 1)])\n",
      "C:\\ProgramData\\Anaconda3\\lib\\site-packages\\tensorboard\\compat\\tensorflow_stub\\dtypes.py:542: FutureWarning: Passing (type, 1) or '1type' as a synonym of type is deprecated; in a future version of numpy, it will be understood as (type, (1,)) / '(1,)type'.\n",
      "  _np_quint8 = np.dtype([(\"quint8\", np.uint8, 1)])\n",
      "C:\\ProgramData\\Anaconda3\\lib\\site-packages\\tensorboard\\compat\\tensorflow_stub\\dtypes.py:543: FutureWarning: Passing (type, 1) or '1type' as a synonym of type is deprecated; in a future version of numpy, it will be understood as (type, (1,)) / '(1,)type'.\n",
      "  _np_qint16 = np.dtype([(\"qint16\", np.int16, 1)])\n",
      "C:\\ProgramData\\Anaconda3\\lib\\site-packages\\tensorboard\\compat\\tensorflow_stub\\dtypes.py:544: FutureWarning: Passing (type, 1) or '1type' as a synonym of type is deprecated; in a future version of numpy, it will be understood as (type, (1,)) / '(1,)type'.\n",
      "  _np_quint16 = np.dtype([(\"quint16\", np.uint16, 1)])\n",
      "C:\\ProgramData\\Anaconda3\\lib\\site-packages\\tensorboard\\compat\\tensorflow_stub\\dtypes.py:545: FutureWarning: Passing (type, 1) or '1type' as a synonym of type is deprecated; in a future version of numpy, it will be understood as (type, (1,)) / '(1,)type'.\n",
      "  _np_qint32 = np.dtype([(\"qint32\", np.int32, 1)])\n",
      "C:\\ProgramData\\Anaconda3\\lib\\site-packages\\tensorboard\\compat\\tensorflow_stub\\dtypes.py:550: FutureWarning: Passing (type, 1) or '1type' as a synonym of type is deprecated; in a future version of numpy, it will be understood as (type, (1,)) / '(1,)type'.\n",
      "  np_resource = np.dtype([(\"resource\", np.ubyte, 1)])\n"
     ]
    }
   ],
   "source": [
    "import os\n",
    "import keras\n",
    "\n",
    "# Disable GPU\n",
    "# os.environ[\"CUDA_VISIBLE_DEVICES\"] = \"\""
   ]
  },
  {
   "cell_type": "code",
   "execution_count": 2,
   "metadata": {},
   "outputs": [],
   "source": [
    "train, test = keras.datasets.cifar10.load_data()"
   ]
  },
  {
   "cell_type": "code",
   "execution_count": 3,
   "metadata": {},
   "outputs": [],
   "source": [
    "## 資料前處理\n",
    "def preproc_x(x, flatten=True):\n",
    "    x = x / 255.\n",
    "    if flatten:\n",
    "        x = x.reshape((len(x), -1))\n",
    "    return x\n",
    "\n",
    "def preproc_y(y, num_classes=10):\n",
    "    if y.shape[-1] == 1:\n",
    "        y = keras.utils.to_categorical(y, num_classes)\n",
    "    return y    "
   ]
  },
  {
   "cell_type": "code",
   "execution_count": 4,
   "metadata": {},
   "outputs": [],
   "source": [
    "x_train, y_train = train\n",
    "x_test, y_test = test\n",
    "\n",
    "# Preproc the inputs\n",
    "x_train = preproc_x(x_train)\n",
    "x_test = preproc_x(x_test)\n",
    "\n",
    "# Preprc the outputs\n",
    "y_train = preproc_y(y_train)\n",
    "y_test = preproc_y(y_test)"
   ]
  },
  {
   "cell_type": "code",
   "execution_count": 5,
   "metadata": {},
   "outputs": [],
   "source": [
    "from keras.layers import BatchNormalization\n",
    "def build_mlp(input_shape,output_units=10,neurons=[1024,512,256,128]):\n",
    "    \"\"\"Code Here\n",
    "    建立你的神經網路\n",
    "    \"\"\"\n",
    "    input_layer = keras.layers.Input(input_shape)\n",
    "    for i,n in enumerate(neurons):\n",
    "        if i==0:\n",
    "            x = keras.layers.Dense(units=n,activation='relu',name='hidden_layer'+str(i+1))(input_layer)\n",
    "            x = BatchNormalization()(x)\n",
    "        else:\n",
    "            x = keras.layers.Dense(units=n,activation='relu',name='hidden_layer'+str(i+1))(x)\n",
    "            x = BatchNormalization()(x)\n",
    "    out = keras.layers.Dense(units=output_units,activation='softmax',name='output')(x)\n",
    "    model = keras.models.Model(inputs=[input_layer],outputs=[out])\n",
    "    \n",
    "    return model"
   ]
  },
  {
   "cell_type": "code",
   "execution_count": 11,
   "metadata": {},
   "outputs": [],
   "source": [
    "\"\"\"Code Here\n",
    "設定超參數\n",
    "\"\"\"\n",
    "Learning_rate=1e-3\n",
    "Batch_size = 1024\n",
    "Momentum = 0.95\n",
    "Epochs = 50\n",
    "Save_onlys = [True,False]"
   ]
  },
  {
   "cell_type": "code",
   "execution_count": 17,
   "metadata": {},
   "outputs": [
    {
     "name": "stdout",
     "output_type": "stream",
     "text": [
      "Train on 50000 samples, validate on 10000 samples\n",
      "Epoch 1/50\n",
      "50000/50000 [==============================] - 3s 60us/step - loss: 2.2057 - acc: 0.2806 - val_loss: 2.0996 - val_acc: 0.3346\n",
      "Epoch 2/50\n",
      "50000/50000 [==============================] - 2s 39us/step - loss: 1.6916 - acc: 0.4125 - val_loss: 1.7728 - val_acc: 0.3965\n",
      "Epoch 3/50\n",
      "50000/50000 [==============================] - 2s 39us/step - loss: 1.5444 - acc: 0.4585 - val_loss: 1.7003 - val_acc: 0.4179\n",
      "Epoch 4/50\n",
      "50000/50000 [==============================] - 2s 39us/step - loss: 1.4585 - acc: 0.4919 - val_loss: 1.6029 - val_acc: 0.4425\n",
      "Epoch 5/50\n",
      "50000/50000 [==============================] - 2s 39us/step - loss: 1.3886 - acc: 0.5180 - val_loss: 1.5706 - val_acc: 0.4524\n",
      "Epoch 6/50\n",
      "50000/50000 [==============================] - 2s 39us/step - loss: 1.3254 - acc: 0.5395 - val_loss: 1.5477 - val_acc: 0.4554\n",
      "Epoch 7/50\n",
      "50000/50000 [==============================] - 2s 39us/step - loss: 1.2708 - acc: 0.5635 - val_loss: 1.5213 - val_acc: 0.4653\n",
      "Epoch 8/50\n",
      "50000/50000 [==============================] - 2s 39us/step - loss: 1.2209 - acc: 0.5799 - val_loss: 1.5150 - val_acc: 0.4677\n",
      "Epoch 9/50\n",
      "50000/50000 [==============================] - 2s 39us/step - loss: 1.1758 - acc: 0.5980 - val_loss: 1.4911 - val_acc: 0.4731\n",
      "Epoch 10/50\n",
      "50000/50000 [==============================] - 2s 39us/step - loss: 1.1263 - acc: 0.6185 - val_loss: 1.4977 - val_acc: 0.4804\n",
      "Epoch 11/50\n",
      "50000/50000 [==============================] - 2s 39us/step - loss: 1.0848 - acc: 0.6318 - val_loss: 1.4935 - val_acc: 0.4767\n",
      "Epoch 12/50\n",
      "50000/50000 [==============================] - 2s 39us/step - loss: 1.0395 - acc: 0.6504 - val_loss: 1.4869 - val_acc: 0.4806\n",
      "Epoch 13/50\n",
      "50000/50000 [==============================] - 2s 39us/step - loss: 0.9963 - acc: 0.6686 - val_loss: 1.4793 - val_acc: 0.4783\n",
      "Epoch 14/50\n",
      "50000/50000 [==============================] - 2s 39us/step - loss: 0.9567 - acc: 0.6840 - val_loss: 1.4945 - val_acc: 0.4781\n",
      "Epoch 15/50\n",
      "50000/50000 [==============================] - 2s 39us/step - loss: 0.9173 - acc: 0.6986 - val_loss: 1.4989 - val_acc: 0.4830\n",
      "Epoch 16/50\n",
      "50000/50000 [==============================] - 2s 39us/step - loss: 0.8757 - acc: 0.7181 - val_loss: 1.4952 - val_acc: 0.4904\n",
      "Epoch 17/50\n",
      "50000/50000 [==============================] - 2s 39us/step - loss: 0.8366 - acc: 0.7310 - val_loss: 1.5025 - val_acc: 0.4835\n",
      "Epoch 18/50\n",
      "50000/50000 [==============================] - 2s 38us/step - loss: 0.7981 - acc: 0.7494 - val_loss: 1.5053 - val_acc: 0.4888\n",
      "Epoch 19/50\n",
      "50000/50000 [==============================] - 2s 39us/step - loss: 0.7615 - acc: 0.7621 - val_loss: 1.5200 - val_acc: 0.4831\n",
      "Epoch 20/50\n",
      "50000/50000 [==============================] - 2s 38us/step - loss: 0.7248 - acc: 0.7778 - val_loss: 1.5274 - val_acc: 0.4903\n",
      "Epoch 21/50\n",
      "50000/50000 [==============================] - 2s 38us/step - loss: 0.6889 - acc: 0.7930 - val_loss: 1.5419 - val_acc: 0.4868\n",
      "Epoch 22/50\n",
      "50000/50000 [==============================] - 2s 38us/step - loss: 0.6535 - acc: 0.8076 - val_loss: 1.5476 - val_acc: 0.4840\n",
      "Epoch 23/50\n",
      "50000/50000 [==============================] - 2s 39us/step - loss: 0.6177 - acc: 0.8228 - val_loss: 1.5625 - val_acc: 0.4873\n",
      "Epoch 24/50\n",
      "50000/50000 [==============================] - 2s 38us/step - loss: 0.5858 - acc: 0.8340 - val_loss: 1.5791 - val_acc: 0.4891\n",
      "Epoch 25/50\n",
      "50000/50000 [==============================] - 2s 38us/step - loss: 0.5537 - acc: 0.8466 - val_loss: 1.5792 - val_acc: 0.4842\n",
      "Epoch 26/50\n",
      "50000/50000 [==============================] - 2s 38us/step - loss: 0.5215 - acc: 0.8583 - val_loss: 1.6046 - val_acc: 0.4865\n",
      "Epoch 27/50\n",
      "50000/50000 [==============================] - 2s 38us/step - loss: 0.4900 - acc: 0.8719 - val_loss: 1.6362 - val_acc: 0.4798\n",
      "Epoch 28/50\n",
      "50000/50000 [==============================] - 2s 38us/step - loss: 0.4597 - acc: 0.8837 - val_loss: 1.6450 - val_acc: 0.4838\n",
      "Epoch 29/50\n",
      "50000/50000 [==============================] - 2s 39us/step - loss: 0.4287 - acc: 0.8942 - val_loss: 1.6657 - val_acc: 0.4849\n",
      "Epoch 30/50\n",
      "50000/50000 [==============================] - 2s 38us/step - loss: 0.4022 - acc: 0.9037 - val_loss: 1.6860 - val_acc: 0.4840\n",
      "Epoch 31/50\n",
      "50000/50000 [==============================] - 2s 39us/step - loss: 0.3757 - acc: 0.9149 - val_loss: 1.6978 - val_acc: 0.4818\n",
      "Epoch 32/50\n",
      "50000/50000 [==============================] - 2s 39us/step - loss: 0.3510 - acc: 0.9227 - val_loss: 1.7384 - val_acc: 0.4811\n",
      "Epoch 33/50\n",
      "50000/50000 [==============================] - 2s 39us/step - loss: 0.3262 - acc: 0.9317 - val_loss: 1.7561 - val_acc: 0.4789\n",
      "Epoch 34/50\n",
      "50000/50000 [==============================] - 2s 39us/step - loss: 0.3028 - acc: 0.9402 - val_loss: 1.7715 - val_acc: 0.4869\n",
      "Epoch 35/50\n",
      "50000/50000 [==============================] - 2s 39us/step - loss: 0.2816 - acc: 0.9472 - val_loss: 1.7943 - val_acc: 0.4827\n",
      "Epoch 36/50\n",
      "50000/50000 [==============================] - 2s 39us/step - loss: 0.2606 - acc: 0.9537 - val_loss: 1.8117 - val_acc: 0.4779\n",
      "Epoch 37/50\n",
      "50000/50000 [==============================] - 2s 39us/step - loss: 0.2423 - acc: 0.9584 - val_loss: 1.8367 - val_acc: 0.4793\n",
      "Epoch 38/50\n",
      "50000/50000 [==============================] - 2s 39us/step - loss: 0.2231 - acc: 0.9651 - val_loss: 1.8694 - val_acc: 0.4784\n",
      "Epoch 39/50\n",
      "50000/50000 [==============================] - 2s 39us/step - loss: 0.2079 - acc: 0.9692 - val_loss: 1.8761 - val_acc: 0.4806\n",
      "Epoch 40/50\n",
      "50000/50000 [==============================] - 2s 39us/step - loss: 0.1915 - acc: 0.9742 - val_loss: 1.9111 - val_acc: 0.4784\n",
      "Epoch 41/50\n",
      "50000/50000 [==============================] - 2s 39us/step - loss: 0.1769 - acc: 0.9772 - val_loss: 1.9398 - val_acc: 0.4768\n",
      "Epoch 42/50\n",
      "50000/50000 [==============================] - 2s 39us/step - loss: 0.1655 - acc: 0.9792 - val_loss: 1.9388 - val_acc: 0.4798\n",
      "Epoch 43/50\n",
      "50000/50000 [==============================] - 2s 39us/step - loss: 0.1518 - acc: 0.9838 - val_loss: 1.9733 - val_acc: 0.4690\n",
      "Epoch 44/50\n",
      "50000/50000 [==============================] - 2s 39us/step - loss: 0.1402 - acc: 0.9861 - val_loss: 1.9812 - val_acc: 0.4849\n",
      "Epoch 45/50\n",
      "50000/50000 [==============================] - 2s 39us/step - loss: 0.1310 - acc: 0.9878 - val_loss: 2.0189 - val_acc: 0.4768\n",
      "Epoch 46/50\n",
      "50000/50000 [==============================] - 2s 39us/step - loss: 0.1200 - acc: 0.9901 - val_loss: 2.0325 - val_acc: 0.4779\n",
      "Epoch 47/50\n",
      "50000/50000 [==============================] - 2s 39us/step - loss: 0.1113 - acc: 0.9917 - val_loss: 2.0570 - val_acc: 0.4791\n",
      "Epoch 48/50\n",
      "50000/50000 [==============================] - 2s 39us/step - loss: 0.1032 - acc: 0.9930 - val_loss: 2.0664 - val_acc: 0.4792\n",
      "Epoch 49/50\n",
      "50000/50000 [==============================] - 2s 39us/step - loss: 0.0947 - acc: 0.9944 - val_loss: 2.0974 - val_acc: 0.4781\n",
      "Epoch 50/50\n",
      "50000/50000 [==============================] - 2s 39us/step - loss: 0.0886 - acc: 0.9955 - val_loss: 2.1084 - val_acc: 0.4787\n",
      "Train on 50000 samples, validate on 10000 samples\n",
      "Epoch 1/50\n",
      "50000/50000 [==============================] - 3s 61us/step - loss: 2.2157 - acc: 0.2798 - val_loss: 2.0242 - val_acc: 0.3510\n",
      "Epoch 2/50\n",
      "50000/50000 [==============================] - 2s 39us/step - loss: 1.7010 - acc: 0.4103 - val_loss: 1.7866 - val_acc: 0.3921\n",
      "Epoch 3/50\n",
      "50000/50000 [==============================] - 2s 40us/step - loss: 1.5531 - acc: 0.4596 - val_loss: 1.6562 - val_acc: 0.4214\n",
      "Epoch 4/50\n",
      "50000/50000 [==============================] - 2s 39us/step - loss: 1.4646 - acc: 0.4918 - val_loss: 1.6032 - val_acc: 0.4331\n",
      "Epoch 5/50\n",
      "50000/50000 [==============================] - 2s 39us/step - loss: 1.3934 - acc: 0.5164 - val_loss: 1.5633 - val_acc: 0.4524\n",
      "Epoch 6/50\n",
      "50000/50000 [==============================] - 2s 39us/step - loss: 1.3329 - acc: 0.5412 - val_loss: 1.5354 - val_acc: 0.4605\n",
      "Epoch 7/50\n",
      "50000/50000 [==============================] - 2s 39us/step - loss: 1.2783 - acc: 0.5583 - val_loss: 1.5195 - val_acc: 0.4716\n",
      "Epoch 8/50\n",
      "50000/50000 [==============================] - 2s 39us/step - loss: 1.2276 - acc: 0.5787 - val_loss: 1.5038 - val_acc: 0.4738\n",
      "Epoch 9/50\n",
      "50000/50000 [==============================] - 2s 39us/step - loss: 1.1790 - acc: 0.5962 - val_loss: 1.5085 - val_acc: 0.4723\n"
     ]
    },
    {
     "name": "stdout",
     "output_type": "stream",
     "text": [
      "Epoch 10/50\n",
      "50000/50000 [==============================] - 2s 39us/step - loss: 1.1369 - acc: 0.6126 - val_loss: 1.4807 - val_acc: 0.4880\n",
      "Epoch 11/50\n",
      "50000/50000 [==============================] - 2s 39us/step - loss: 1.0931 - acc: 0.6314 - val_loss: 1.4816 - val_acc: 0.4831\n",
      "Epoch 12/50\n",
      "50000/50000 [==============================] - 2s 39us/step - loss: 1.0516 - acc: 0.6471 - val_loss: 1.4806 - val_acc: 0.4872\n",
      "Epoch 13/50\n",
      "50000/50000 [==============================] - 2s 39us/step - loss: 1.0074 - acc: 0.6648 - val_loss: 1.4631 - val_acc: 0.4908\n",
      "Epoch 14/50\n",
      "50000/50000 [==============================] - 2s 38us/step - loss: 0.9678 - acc: 0.6794 - val_loss: 1.4840 - val_acc: 0.4869\n",
      "Epoch 15/50\n",
      "50000/50000 [==============================] - 2s 38us/step - loss: 0.9270 - acc: 0.6981 - val_loss: 1.4926 - val_acc: 0.4857\n",
      "Epoch 16/50\n",
      "50000/50000 [==============================] - 2s 38us/step - loss: 0.8882 - acc: 0.7126 - val_loss: 1.5054 - val_acc: 0.4861\n",
      "Epoch 17/50\n",
      "50000/50000 [==============================] - 2s 39us/step - loss: 0.8504 - acc: 0.7275 - val_loss: 1.4816 - val_acc: 0.4938\n",
      "Epoch 18/50\n",
      "50000/50000 [==============================] - 2s 39us/step - loss: 0.8114 - acc: 0.7423 - val_loss: 1.5118 - val_acc: 0.4936\n",
      "Epoch 19/50\n",
      "50000/50000 [==============================] - 2s 39us/step - loss: 0.7732 - acc: 0.7583 - val_loss: 1.4999 - val_acc: 0.4934\n",
      "Epoch 20/50\n",
      "50000/50000 [==============================] - 2s 39us/step - loss: 0.7373 - acc: 0.7730 - val_loss: 1.5206 - val_acc: 0.4841\n",
      "Epoch 21/50\n",
      "50000/50000 [==============================] - 2s 38us/step - loss: 0.7008 - acc: 0.7890 - val_loss: 1.5254 - val_acc: 0.4921\n",
      "Epoch 22/50\n",
      "50000/50000 [==============================] - 2s 39us/step - loss: 0.6653 - acc: 0.8043 - val_loss: 1.5362 - val_acc: 0.4840\n",
      "Epoch 23/50\n",
      "50000/50000 [==============================] - 2s 39us/step - loss: 0.6318 - acc: 0.8160 - val_loss: 1.5572 - val_acc: 0.4906\n",
      "Epoch 24/50\n",
      "50000/50000 [==============================] - 2s 38us/step - loss: 0.5972 - acc: 0.8282 - val_loss: 1.5584 - val_acc: 0.4906\n",
      "Epoch 25/50\n",
      "50000/50000 [==============================] - 2s 39us/step - loss: 0.5626 - acc: 0.8427 - val_loss: 1.5977 - val_acc: 0.4875\n",
      "Epoch 26/50\n",
      "50000/50000 [==============================] - 2s 38us/step - loss: 0.5328 - acc: 0.8545 - val_loss: 1.5840 - val_acc: 0.4936\n",
      "Epoch 27/50\n",
      "50000/50000 [==============================] - 2s 39us/step - loss: 0.5014 - acc: 0.8669 - val_loss: 1.6251 - val_acc: 0.4825\n",
      "Epoch 28/50\n",
      "50000/50000 [==============================] - 2s 38us/step - loss: 0.4707 - acc: 0.8786 - val_loss: 1.6232 - val_acc: 0.4896\n",
      "Epoch 29/50\n",
      "50000/50000 [==============================] - 2s 38us/step - loss: 0.4420 - acc: 0.8903 - val_loss: 1.6592 - val_acc: 0.4846\n",
      "Epoch 30/50\n",
      "50000/50000 [==============================] - 2s 38us/step - loss: 0.4142 - acc: 0.8999 - val_loss: 1.6578 - val_acc: 0.4905\n",
      "Epoch 31/50\n",
      "50000/50000 [==============================] - 2s 38us/step - loss: 0.3871 - acc: 0.9108 - val_loss: 1.6867 - val_acc: 0.4857\n",
      "Epoch 32/50\n",
      "50000/50000 [==============================] - 2s 38us/step - loss: 0.3598 - acc: 0.9203 - val_loss: 1.7238 - val_acc: 0.4866\n",
      "Epoch 33/50\n",
      "50000/50000 [==============================] - 2s 39us/step - loss: 0.3364 - acc: 0.9292 - val_loss: 1.7464 - val_acc: 0.4813\n",
      "Epoch 34/50\n",
      "50000/50000 [==============================] - 2s 38us/step - loss: 0.3123 - acc: 0.9365 - val_loss: 1.7673 - val_acc: 0.4801\n",
      "Epoch 35/50\n",
      "50000/50000 [==============================] - 2s 38us/step - loss: 0.2883 - acc: 0.9448 - val_loss: 1.7852 - val_acc: 0.4845\n",
      "Epoch 36/50\n",
      "50000/50000 [==============================] - 2s 38us/step - loss: 0.2687 - acc: 0.9521 - val_loss: 1.7997 - val_acc: 0.4834\n",
      "Epoch 37/50\n",
      "50000/50000 [==============================] - 2s 38us/step - loss: 0.2500 - acc: 0.9582 - val_loss: 1.8182 - val_acc: 0.4823\n",
      "Epoch 38/50\n",
      "50000/50000 [==============================] - 2s 38us/step - loss: 0.2308 - acc: 0.9638 - val_loss: 1.8510 - val_acc: 0.4894\n",
      "Epoch 39/50\n",
      "50000/50000 [==============================] - 2s 39us/step - loss: 0.2147 - acc: 0.9686 - val_loss: 1.8798 - val_acc: 0.4795\n",
      "Epoch 40/50\n",
      "50000/50000 [==============================] - 2s 38us/step - loss: 0.1984 - acc: 0.9727 - val_loss: 1.8817 - val_acc: 0.4786\n",
      "Epoch 41/50\n",
      "50000/50000 [==============================] - 2s 39us/step - loss: 0.1822 - acc: 0.9776 - val_loss: 1.9025 - val_acc: 0.4824\n",
      "Epoch 42/50\n",
      "50000/50000 [==============================] - 2s 39us/step - loss: 0.1699 - acc: 0.9805 - val_loss: 1.9299 - val_acc: 0.4821\n",
      "Epoch 43/50\n",
      "50000/50000 [==============================] - 2s 39us/step - loss: 0.1563 - acc: 0.9841 - val_loss: 1.9579 - val_acc: 0.4810\n",
      "Epoch 44/50\n",
      "50000/50000 [==============================] - 2s 39us/step - loss: 0.1440 - acc: 0.9859 - val_loss: 1.9527 - val_acc: 0.4818\n",
      "Epoch 45/50\n",
      "50000/50000 [==============================] - 2s 39us/step - loss: 0.1347 - acc: 0.9878 - val_loss: 1.9996 - val_acc: 0.4817\n",
      "Epoch 46/50\n",
      "50000/50000 [==============================] - 2s 39us/step - loss: 0.1245 - acc: 0.9901 - val_loss: 2.0206 - val_acc: 0.4845\n",
      "Epoch 47/50\n",
      "50000/50000 [==============================] - 2s 39us/step - loss: 0.1146 - acc: 0.9923 - val_loss: 2.0400 - val_acc: 0.4816\n",
      "Epoch 48/50\n",
      "50000/50000 [==============================] - 2s 38us/step - loss: 0.1068 - acc: 0.9934 - val_loss: 2.0465 - val_acc: 0.4784\n",
      "Epoch 49/50\n",
      "50000/50000 [==============================] - 2s 39us/step - loss: 0.0992 - acc: 0.9943 - val_loss: 2.0773 - val_acc: 0.4837\n",
      "Epoch 50/50\n",
      "50000/50000 [==============================] - 2s 39us/step - loss: 0.0919 - acc: 0.9951 - val_loss: 2.0928 - val_acc: 0.4789\n"
     ]
    }
   ],
   "source": [
    "# 載入 Callbacks\n",
    "\"\"\"Code Here\n",
    "設定 callbacks: model checkpoint\n",
    "\"\"\"\n",
    "results = {}\n",
    "from keras.callbacks import ModelCheckpoint\n",
    "\n",
    "for i,s in enumerate(Save_onlys):\n",
    "    model_ckpt = ModelCheckpoint(filepath='./tmp'+str(i+1)+'.h5',\n",
    "                             monitor='val_loss',\n",
    "                             save_best_only=s,\n",
    "                             save_weights_only= True)\n",
    "    model = build_mlp(x_train.shape[1:])\n",
    "    optimizer = keras.optimizers.SGD(lr=Learning_rate,momentum=Momentum,nesterov=True)\n",
    "    model.compile(loss='categorical_crossentropy',metrics=['accuracy'],optimizer=optimizer)\n",
    "    model.fit(x_train,y_train,\n",
    "              epochs=Epochs,\n",
    "              batch_size=Batch_size,\n",
    "              validation_data=(x_test,y_test),\n",
    "              shuffle=True,\n",
    "              callbacks=[model_ckpt])\n",
    "    train_loss = model.history.history['loss']\n",
    "    train_acc = model.history.history['acc']\n",
    "    valid_loss = model.history.history['val_loss']\n",
    "    valid_acc = model.history.history['val_acc']\n",
    "    \n",
    "    exp_tag = 'exp%i Save_best_only=%s'%((i+1),str(s))\n",
    "    results[exp_tag]={\n",
    "        'train_loss':train_loss,\n",
    "        'train_acc':train_acc,\n",
    "        'valid_loss':valid_loss,\n",
    "        'valid_acc':valid_acc\n",
    "    }\n",
    "    \n",
    "\n"
   ]
  },
  {
   "cell_type": "code",
   "execution_count": 18,
   "metadata": {
    "scrolled": true
   },
   "outputs": [
    {
     "data": {
      "image/png": "[encoded data removed]",
      "text/plain": [
       "<Figure size 432x288 with 1 Axes>"
      ]
     },
     "metadata": {
      "needs_background": "light"
     },
     "output_type": "display_data"
    },
    {
     "data": {
      "image/png": "[encoded data removed]",
      "text/plain": [
       "<Figure size 432x288 with 1 Axes>"
      ]
     },
     "metadata": {
      "needs_background": "light"
     },
     "output_type": "display_data"
    }
   ],
   "source": [
    "import matplotlib.pyplot as plt\n",
    "%matplotlib inline\n",
    "plt.plot(range(len(train_loss)),train_loss,'-',label='train loss')\n",
    "plt.plot(range(len(valid_loss)), valid_loss, label=\"valid loss\")\n",
    "# plt.hlines(y=loss_loadback, xmin=0, xmax=len(train_loss), colors='r', linestyles='--')\n",
    "plt.legend()\n",
    "plt.title(\"Loss\")\n",
    "plt.show()\n",
    "\n",
    "plt.plot(range(len(train_acc)), train_acc, label=\"train accuracy\")\n",
    "plt.plot(range(len(valid_acc)), valid_acc, label=\"valid accuracy\")\n",
    "# plt.hlines(y=acc_loadback, xmin=0, xmax=len(train_loss), colors='r', linestyles='--')\n",
    "plt.legend()\n",
    "plt.title(\"Accuracy\")\n",
    "plt.show()"
   ]
  },
  {
   "cell_type": "code",
   "execution_count": 12,
   "metadata": {},
   "outputs": [
    {
     "name": "stdout",
     "output_type": "stream",
     "text": [
      "WARNING:tensorflow:From C:\\ProgramData\\Anaconda3\\lib\\site-packages\\keras\\optimizers.py:793: The name tf.train.Optimizer is deprecated. Please use tf.compat.v1.train.Optimizer instead.\n",
      "\n"
     ]
    }
   ],
   "source": [
    "model1 = build_mlp(x_train.shape[1:])\n",
    "optimizer = keras.optimizers.SGD(lr=Learning_rate,momentum=Momentum,nesterov=True)\n",
    "model1.compile(loss='categorical_crossentropy',metrics=['accuracy'],optimizer=optimizer)\n",
    "\n",
    "model2 = build_mlp(x_train.shape[1:])\n",
    "model2.compile(loss='categorical_crossentropy',metrics=['accuracy'],optimizer=optimizer)\n",
    "# Load back\n",
    "model1.load_weights(\"./tmp1.h5\")\n",
    "# loss_loadback_1, acc_loadback_1 = model.evaluate(x_test, y_test)\n",
    "model2.load_weights(\"./tmp2.h5\")\n",
    "# loss_loadback_2, acc_loadback_2 = model.evaluate(x_test, y_test)"
   ]
  },
  {
   "cell_type": "code",
   "execution_count": 14,
   "metadata": {},
   "outputs": [
    {
     "name": "stdout",
     "output_type": "stream",
     "text": [
      "10000/10000 [==============================] - 0s 50us/step\n",
      "\n",
      "Loss: 1.48, Accuracy: 47.83%\n",
      "10000/10000 [==============================] - 1s 74us/step\n",
      "\n",
      "Loss: 2.09, Accuracy: 47.89%\n"
     ]
    }
   ],
   "source": [
    "loss1, accuracy1 = model1.evaluate(x_test, y_test)\n",
    "print(\"\\nLoss: %.2f, Accuracy: %.2f%%\" % (loss1, accuracy1*100))\n",
    "loss2, accuracy2 = model2.evaluate(x_test, y_test)\n",
    "print(\"\\nLoss: %.2f, Accuracy: %.2f%%\" % (loss2, accuracy2*100))"
   ]
  },
  {
   "cell_type": "code",
   "execution_count": null,
   "metadata": {},
   "outputs": [],
   "source": []
  }
 ],
 "metadata": {
  "kernelspec": {
   "display_name": "Python 3",
   "language": "python",
   "name": "python3"
  },
  "language_info": {
   "codemirror_mode": {
    "name": "ipython",
    "version": 3
   },
   "file_extension": ".py",
   "mimetype": "text/x-python",
   "name": "python",
   "nbconvert_exporter": "python",
   "pygments_lexer": "ipython3",
   "version": "3.7.6"
  }
 },
 "nbformat": 4,
 "nbformat_minor": 2
}
