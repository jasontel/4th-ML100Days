{
 "cells": [
  {
   "cell_type": "markdown",
   "metadata": {},
   "source": [
    "# 作業目標:\n",
    "    了解 Convolution 卷積的組成"
   ]
  },
  {
   "cell_type": "markdown",
   "metadata": {},
   "source": [
    "# 作業重點:\n",
    "    修改 a_slice_prev, 檢查 Z 的輸出"
   ]
  },
  {
   "cell_type": "code",
   "execution_count": 1,
   "metadata": {},
   "outputs": [],
   "source": [
    "import numpy as np"
   ]
  },
  {
   "cell_type": "code",
   "execution_count": 11,
   "metadata": {},
   "outputs": [],
   "source": [
    "# GRADED FUNCTION: conv_single_step\n",
    "def conv_single_step(a_slice_prev, W, b):\n",
    "    \"\"\"\n",
    "    定義一層 Kernel (內核), 使用的參數說明如下\n",
    "    Arguments:\n",
    "        a_slice_prev -- 輸入資料的維度\n",
    "        W -- 權重, 被使用在 a_slice_prev\n",
    "        b -- 偏差參數 \n",
    "    Returns:\n",
    "        Z -- 滑動窗口（W，b）卷積在前一個 feature map 上的結果\n",
    "    \"\"\"\n",
    "    # 定義一個元素介於 a_slice and W\n",
    "    s = a_slice_prev * W\n",
    "    print('s=',s)\n",
    "    # 加總所有的 \"s\" 並指定給Z.\n",
    "    Z = np.sum(s)\n",
    "    print('Z(np.sum(s))=',Z)\n",
    "    # Add bias b to Z. 這是 float() 函數,\n",
    "    Z = float(Z + b)\n",
    "\n",
    "    return Z"
   ]
  },
  {
   "cell_type": "code",
   "execution_count": 12,
   "metadata": {},
   "outputs": [
    {
     "name": "stdout",
     "output_type": "stream",
     "text": [
      "s= [[[-3.28475317  0.18732227 -0.43731282]\n",
      "  [-0.24688443  0.65945029  0.51169682]\n",
      "  [-0.35028504 -0.14201182  0.13082251]\n",
      "  [-0.04945008  0.17400349  1.38165868]\n",
      "  [-0.12173306 -0.04678599  1.28057434]]\n",
      "\n",
      " [[-1.31867931 -0.03192619  0.32944705]\n",
      "  [-0.0269632   0.24681895 -0.08512196]\n",
      "  [-0.39361746  0.03930652 -0.31154691]\n",
      "  [ 0.62882631  0.30571426 -0.15048003]\n",
      "  [-0.37757515 -0.15901261 -0.58069248]]\n",
      "\n",
      " [[-0.11715518 -0.29381838  0.65535702]\n",
      "  [ 0.22500938 -0.02189239  0.01738998]\n",
      "  [-0.35213085  0.19835334 -1.42662643]\n",
      "  [ 0.2601206   0.25174261  0.03434725]\n",
      "  [ 1.20723772  1.89794856  0.02077532]]\n",
      "\n",
      " [[ 0.01568089 -0.14799036  2.67521243]\n",
      "  [ 0.23636489 -1.14675218  0.37105975]\n",
      "  [-0.57333973 -0.38618451  0.41895556]\n",
      "  [-0.18034786 -0.10613204 -0.50667939]\n",
      "  [-1.14530969  0.15722653  0.70174599]]\n",
      "\n",
      " [[ 0.4703903   0.65221352 -0.58696682]\n",
      "  [-0.23902903  0.02274897  0.0140994 ]\n",
      "  [-0.11513862  1.32054779  1.64008122]\n",
      "  [-0.73939639 -0.19885622 -0.0392581 ]\n",
      "  [ 0.09896376  0.20370451  0.21543708]]]\n",
      "Z(np.sum(s))= 3.4205199842212486\n",
      "Z = 3.1104032107031885\n"
     ]
    }
   ],
   "source": [
    "\n",
    "np.random.seed(1)\n",
    "#定義一個 axaxd 的 feature map\n",
    "a_slice_prev = np.random.randn(5,5,3)\n",
    "W = np.random.randn(5,5,3)\n",
    "b = np.random.randn(1, 1, 1)\n",
    "\n",
    "#取得計算後,卷積矩陣的值\n",
    "Z = conv_single_step(a_slice_prev, W, b)\n",
    "print(\"Z =\", Z)\n"
   ]
  },
  {
   "cell_type": "code",
   "execution_count": 3,
   "metadata": {},
   "outputs": [
    {
     "name": "stdout",
     "output_type": "stream",
     "text": [
      "[[ 1.20220722  0.4802877  -1.44692267]\n",
      " [ 0.84889471 -1.20444031 -1.23153316]\n",
      " [ 0.77877572  0.1006364  -0.09203756]]\n"
     ]
    }
   ],
   "source": [
    "print(np.random.randn(3,3))"
   ]
  },
  {
   "cell_type": "code",
   "execution_count": null,
   "metadata": {},
   "outputs": [],
   "source": []
  }
 ],
 "metadata": {
  "kernelspec": {
   "display_name": "Python 3",
   "language": "python",
   "name": "python3"
  },
  "language_info": {
   "codemirror_mode": {
    "name": "ipython",
    "version": 3
   },
   "file_extension": ".py",
   "mimetype": "text/x-python",
   "name": "python",
   "nbconvert_exporter": "python",
   "pygments_lexer": "ipython3",
   "version": "3.7.6"
  }
 },
 "nbformat": 4,
 "nbformat_minor": 2
}
