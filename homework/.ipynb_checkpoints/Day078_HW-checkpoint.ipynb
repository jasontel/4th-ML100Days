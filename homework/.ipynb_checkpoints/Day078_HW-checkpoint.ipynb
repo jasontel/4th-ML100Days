{
 "cells": [
  {
   "cell_type": "markdown",
   "metadata": {},
   "source": [
    "## Work\n",
    "1. 請嘗試將 preproc_x 替換成以每筆資料的 min/max 進行標準化至 -1 ~ 1 間，再進行訓練\n",
    "2. 請嘗試將 mlp 疊更深 (e.g 5~10 層)，進行訓練後觀察 learning curve 的走勢\n",
    "3. (optional) 請改用 GPU 進行訓練 (如果你有 GPU 的話)，比較使用 CPU 與 GPU 的訓練速度"
   ]
  },
  {
   "cell_type": "code",
   "execution_count": 23,
   "metadata": {},
   "outputs": [],
   "source": [
    "## \n",
    "\"\"\"\n",
    "Your code here (optional)\n",
    "確認硬體資源\n",
    "\"\"\"\n",
    "os.environ[\"CUDA_DEVICE_ORDER\"]=\"00000000:01:00.0\" # 設定 smi 看到的 GPU ID 符合實際設定的順序 (若一台機器有多張不同型號的卡時，會有此類問題)\n",
    "os.environ[\"CUDA_VISIBLE_DEVICES\"] = \"0\""
   ]
  },
  {
   "cell_type": "code",
   "execution_count": 12,
   "metadata": {},
   "outputs": [],
   "source": [
    "import os\n",
    "import keras\n",
    "\n",
    "# 請嘗試設定 GPU：os.environ\n",
    "# os.environ['CUDA_VISIBLE_DEVICES'] = ''"
   ]
  },
  {
   "cell_type": "code",
   "execution_count": 13,
   "metadata": {},
   "outputs": [],
   "source": [
    "train, test = keras.datasets.cifar10.load_data()"
   ]
  },
  {
   "cell_type": "code",
   "execution_count": 14,
   "metadata": {},
   "outputs": [],
   "source": [
    "## 資料前處理\n",
    "\"\"\"\n",
    "Your code here\n",
    "\"\"\"\n",
    "def preproc_x(X, flatten = True):\n",
    "    x = 2*(((x - x.min()) / (x.max() - x.min()))-0.5)\n",
    "    if flatten:\n",
    "        X = X.reshape(len(X),-1)\n",
    "    return X\n",
    "\n",
    "\n",
    "def preproc_y(Y,num_classes=10):\n",
    "    if Y.shape[-1] ==1:\n",
    "        Y = keras.utils.to_categorical(Y, num_classes)\n",
    "    return Y"
   ]
  },
  {
   "cell_type": "code",
   "execution_count": 15,
   "metadata": {},
   "outputs": [],
   "source": [
    "x_train, y_train = train\n",
    "x_test, y_test = test\n",
    "\n",
    "# Preproc the inputs\n",
    "x_train = preproc_x(x_train)\n",
    "x_test = preproc_x(x_test)\n",
    "\n",
    "# Preprc the outputs\n",
    "y_train = preproc_y(y_train)\n",
    "y_test = preproc_y(y_test)"
   ]
  },
  {
   "cell_type": "code",
   "execution_count": 16,
   "metadata": {},
   "outputs": [
    {
     "name": "stdout",
     "output_type": "stream",
     "text": [
      "Model: \"model_3\"\n",
      "_________________________________________________________________\n",
      "Layer (type)                 Output Shape              Param #   \n",
      "=================================================================\n",
      "input_3 (InputLayer)         (None, 3072)              0         \n",
      "_________________________________________________________________\n",
      "hidden_layer1 (Dense)        (None, 1024)              3146752   \n",
      "_________________________________________________________________\n",
      "hidden_layer2 (Dense)        (None, 512)               524800    \n",
      "_________________________________________________________________\n",
      "hidden_layer3 (Dense)        (None, 256)               131328    \n",
      "_________________________________________________________________\n",
      "hidden_layer4 (Dense)        (None, 128)               32896     \n",
      "_________________________________________________________________\n",
      "hidden_layer5 (Dense)        (None, 64)                8256      \n",
      "_________________________________________________________________\n",
      "hidden_layer6 (Dense)        (None, 32)                2080      \n",
      "_________________________________________________________________\n",
      "output (Dense)               (None, 10)                330       \n",
      "=================================================================\n",
      "Total params: 3,846,442\n",
      "Trainable params: 3,846,442\n",
      "Non-trainable params: 0\n",
      "_________________________________________________________________\n"
     ]
    }
   ],
   "source": [
    "\"\"\"Code Here\n",
    "建立你的神經網路\n",
    "\"\"\"\n",
    "def build_mlp(input_shape, output_units = 10, num_neurons = [1024,512,256,128,64,32]):\n",
    "    input_layer = keras.layers.Input(input_shape)\n",
    "    for i,n_units in enumerate(num_neurons):\n",
    "        if i == 0:\n",
    "            x = keras.layers.Dense(units = n_units, activation = 'relu', name = 'hidden_layer'+str(i+1))(input_layer)\n",
    "        else:\n",
    "            x = keras.layers.Dense(units = n_units, activation = 'relu', name = 'hidden_layer'+str(i+1))(x)\n",
    "    out = keras.layers.Dense(units = output_units, activation = 'softmax', name = 'output')(x)\n",
    "    \n",
    "    model = keras.models.Model(inputs = [input_layer], outputs = [out])\n",
    "    return model\n",
    "model = build_mlp(input_shape = x_train.shape[1:])\n",
    "model.summary()"
   ]
  },
  {
   "cell_type": "code",
   "execution_count": 17,
   "metadata": {},
   "outputs": [],
   "source": [
    "## 超參數設定\n",
    "LEARNING_RATE = 0.001\n",
    "EPOCHS = 100\n",
    "BATCH_SIZE = 256"
   ]
  },
  {
   "cell_type": "code",
   "execution_count": 18,
   "metadata": {},
   "outputs": [
    {
     "name": "stdout",
     "output_type": "stream",
     "text": [
      "WARNING:tensorflow:From C:\\ProgramData\\Anaconda3\\lib\\site-packages\\keras\\optimizers.py:793: The name tf.train.Optimizer is deprecated. Please use tf.compat.v1.train.Optimizer instead.\n",
      "\n",
      "WARNING:tensorflow:From C:\\ProgramData\\Anaconda3\\lib\\site-packages\\keras\\backend\\tensorflow_backend.py:3576: The name tf.log is deprecated. Please use tf.math.log instead.\n",
      "\n"
     ]
    }
   ],
   "source": [
    "optimizer = keras.optimizers.Adam(lr=LEARNING_RATE)\n",
    "model.compile(loss=\"categorical_crossentropy\", metrics=[\"accuracy\"], optimizer=optimizer)"
   ]
  },
  {
   "cell_type": "code",
   "execution_count": 19,
   "metadata": {},
   "outputs": [
    {
     "name": "stdout",
     "output_type": "stream",
     "text": [
      "WARNING:tensorflow:From C:\\ProgramData\\Anaconda3\\lib\\site-packages\\tensorflow\\python\\ops\\math_grad.py:1250: add_dispatch_support.<locals>.wrapper (from tensorflow.python.ops.array_ops) is deprecated and will be removed in a future version.\n",
      "Instructions for updating:\n",
      "Use tf.where in 2.0, which has the same broadcast rule as np.where\n",
      "WARNING:tensorflow:From C:\\ProgramData\\Anaconda3\\lib\\site-packages\\keras\\backend\\tensorflow_backend.py:1033: The name tf.assign_add is deprecated. Please use tf.compat.v1.assign_add instead.\n",
      "\n",
      "Train on 50000 samples, validate on 10000 samples\n",
      "Epoch 1/100\n",
      "50000/50000 [==============================] - 6s 123us/step - loss: 1.7456 - acc: 0.3818 - val_loss: 1.5659 - val_acc: 0.4473\n",
      "Epoch 2/100\n",
      "50000/50000 [==============================] - 3s 58us/step - loss: 1.4891 - acc: 0.4777 - val_loss: 1.4737 - val_acc: 0.4805\n",
      "Epoch 3/100\n",
      "50000/50000 [==============================] - 3s 57us/step - loss: 1.3632 - acc: 0.5198 - val_loss: 1.4064 - val_acc: 0.5015\n",
      "Epoch 4/100\n",
      "50000/50000 [==============================] - 3s 57us/step - loss: 1.2642 - acc: 0.5558 - val_loss: 1.3651 - val_acc: 0.5224\n",
      "Epoch 5/100\n",
      "50000/50000 [==============================] - 3s 56us/step - loss: 1.1664 - acc: 0.5884 - val_loss: 1.3488 - val_acc: 0.5261\n",
      "Epoch 6/100\n",
      "50000/50000 [==============================] - 3s 56us/step - loss: 1.0828 - acc: 0.6182 - val_loss: 1.3511 - val_acc: 0.5423\n",
      "Epoch 7/100\n",
      "50000/50000 [==============================] - 3s 56us/step - loss: 0.9989 - acc: 0.6474 - val_loss: 1.3688 - val_acc: 0.5345\n",
      "Epoch 8/100\n",
      "50000/50000 [==============================] - 3s 56us/step - loss: 0.9077 - acc: 0.6780 - val_loss: 1.3684 - val_acc: 0.5368\n",
      "Epoch 9/100\n",
      "50000/50000 [==============================] - 3s 56us/step - loss: 0.8357 - acc: 0.7074 - val_loss: 1.4438 - val_acc: 0.5525\n",
      "Epoch 10/100\n",
      "50000/50000 [==============================] - 3s 57us/step - loss: 0.7536 - acc: 0.7343 - val_loss: 1.5014 - val_acc: 0.5396\n",
      "Epoch 11/100\n",
      "50000/50000 [==============================] - 3s 57us/step - loss: 0.6829 - acc: 0.7578 - val_loss: 1.5540 - val_acc: 0.5334\n",
      "Epoch 12/100\n",
      "50000/50000 [==============================] - 3s 57us/step - loss: 0.6146 - acc: 0.7840 - val_loss: 1.6315 - val_acc: 0.5456\n",
      "Epoch 13/100\n",
      "50000/50000 [==============================] - 3s 60us/step - loss: 0.5563 - acc: 0.8031 - val_loss: 1.7371 - val_acc: 0.5407\n",
      "Epoch 14/100\n",
      "50000/50000 [==============================] - 3s 59us/step - loss: 0.4859 - acc: 0.8292 - val_loss: 1.7764 - val_acc: 0.5410\n",
      "Epoch 15/100\n",
      "50000/50000 [==============================] - 3s 59us/step - loss: 0.4437 - acc: 0.8433 - val_loss: 1.9505 - val_acc: 0.5386\n",
      "Epoch 16/100\n",
      "50000/50000 [==============================] - 3s 58us/step - loss: 0.3956 - acc: 0.8621 - val_loss: 1.9577 - val_acc: 0.5290\n",
      "Epoch 17/100\n",
      "50000/50000 [==============================] - 3s 58us/step - loss: 0.3643 - acc: 0.8728 - val_loss: 2.1416 - val_acc: 0.5324\n",
      "Epoch 18/100\n",
      "50000/50000 [==============================] - 3s 58us/step - loss: 0.3339 - acc: 0.8829 - val_loss: 2.2052 - val_acc: 0.5291\n",
      "Epoch 19/100\n",
      "50000/50000 [==============================] - 3s 57us/step - loss: 0.3053 - acc: 0.8939 - val_loss: 2.3320 - val_acc: 0.5342\n",
      "Epoch 20/100\n",
      "50000/50000 [==============================] - 3s 60us/step - loss: 0.2814 - acc: 0.9029 - val_loss: 2.3688 - val_acc: 0.5428\n",
      "Epoch 21/100\n",
      "50000/50000 [==============================] - 3s 58us/step - loss: 0.2525 - acc: 0.9133 - val_loss: 2.5650 - val_acc: 0.5278\n",
      "Epoch 22/100\n",
      "50000/50000 [==============================] - 3s 56us/step - loss: 0.2354 - acc: 0.9191 - val_loss: 2.5423 - val_acc: 0.5339\n",
      "Epoch 23/100\n",
      "50000/50000 [==============================] - 3s 57us/step - loss: 0.2300 - acc: 0.9218 - val_loss: 2.5850 - val_acc: 0.5413\n",
      "Epoch 24/100\n",
      "50000/50000 [==============================] - 3s 58us/step - loss: 0.2063 - acc: 0.9294 - val_loss: 2.7300 - val_acc: 0.5459\n",
      "Epoch 25/100\n",
      "50000/50000 [==============================] - 3s 57us/step - loss: 0.2187 - acc: 0.9256 - val_loss: 2.7068 - val_acc: 0.5358\n",
      "Epoch 26/100\n",
      "50000/50000 [==============================] - 3s 57us/step - loss: 0.1887 - acc: 0.9360 - val_loss: 2.8058 - val_acc: 0.5359\n",
      "Epoch 27/100\n",
      "50000/50000 [==============================] - 3s 58us/step - loss: 0.1876 - acc: 0.9365 - val_loss: 2.8644 - val_acc: 0.5335\n",
      "Epoch 28/100\n",
      "50000/50000 [==============================] - 3s 57us/step - loss: 0.1744 - acc: 0.9419 - val_loss: 2.8986 - val_acc: 0.5400\n",
      "Epoch 29/100\n",
      "50000/50000 [==============================] - 3s 56us/step - loss: 0.1555 - acc: 0.9478 - val_loss: 2.9581 - val_acc: 0.5340\n",
      "Epoch 30/100\n",
      "50000/50000 [==============================] - 3s 56us/step - loss: 0.1438 - acc: 0.9523 - val_loss: 3.0542 - val_acc: 0.5368\n",
      "Epoch 31/100\n",
      "50000/50000 [==============================] - 3s 57us/step - loss: 0.1452 - acc: 0.9519 - val_loss: 2.9153 - val_acc: 0.5449\n",
      "Epoch 32/100\n",
      "50000/50000 [==============================] - 3s 56us/step - loss: 0.1478 - acc: 0.9505 - val_loss: 3.0264 - val_acc: 0.5344\n",
      "Epoch 33/100\n",
      "50000/50000 [==============================] - 3s 56us/step - loss: 0.1538 - acc: 0.9488 - val_loss: 2.9346 - val_acc: 0.5369\n",
      "Epoch 34/100\n",
      "50000/50000 [==============================] - 3s 58us/step - loss: 0.1349 - acc: 0.9550 - val_loss: 3.0644 - val_acc: 0.5337\n",
      "Epoch 35/100\n",
      "50000/50000 [==============================] - 3s 57us/step - loss: 0.1416 - acc: 0.9519 - val_loss: 3.0394 - val_acc: 0.5349\n",
      "Epoch 36/100\n",
      "50000/50000 [==============================] - 3s 57us/step - loss: 0.1208 - acc: 0.9598 - val_loss: 3.2835 - val_acc: 0.5341\n",
      "Epoch 37/100\n",
      "50000/50000 [==============================] - 3s 56us/step - loss: 0.1345 - acc: 0.9550 - val_loss: 3.3654 - val_acc: 0.5321\n",
      "Epoch 38/100\n",
      "50000/50000 [==============================] - 3s 57us/step - loss: 0.1332 - acc: 0.9559 - val_loss: 3.1241 - val_acc: 0.5327\n",
      "Epoch 39/100\n",
      "50000/50000 [==============================] - 3s 57us/step - loss: 0.1162 - acc: 0.9622 - val_loss: 3.0973 - val_acc: 0.5309\n",
      "Epoch 40/100\n",
      "50000/50000 [==============================] - 3s 56us/step - loss: 0.1176 - acc: 0.9617 - val_loss: 3.1988 - val_acc: 0.5365\n",
      "Epoch 41/100\n",
      "50000/50000 [==============================] - 3s 59us/step - loss: 0.1138 - acc: 0.9625 - val_loss: 3.1852 - val_acc: 0.5355\n",
      "Epoch 42/100\n",
      "50000/50000 [==============================] - 3s 57us/step - loss: 0.1114 - acc: 0.9636 - val_loss: 3.1865 - val_acc: 0.5349\n",
      "Epoch 43/100\n",
      "50000/50000 [==============================] - 3s 56us/step - loss: 0.1094 - acc: 0.9647 - val_loss: 3.2938 - val_acc: 0.5391\n",
      "Epoch 44/100\n",
      "50000/50000 [==============================] - 3s 56us/step - loss: 0.1089 - acc: 0.9644 - val_loss: 3.3739 - val_acc: 0.5424\n",
      "Epoch 45/100\n",
      "50000/50000 [==============================] - 3s 56us/step - loss: 0.0980 - acc: 0.9685 - val_loss: 3.3218 - val_acc: 0.5346\n",
      "Epoch 46/100\n",
      "50000/50000 [==============================] - 3s 56us/step - loss: 0.1216 - acc: 0.9606 - val_loss: 3.3107 - val_acc: 0.5315\n",
      "Epoch 47/100\n",
      "50000/50000 [==============================] - 3s 56us/step - loss: 0.0963 - acc: 0.9690 - val_loss: 3.3881 - val_acc: 0.5385\n",
      "Epoch 48/100\n",
      "50000/50000 [==============================] - 3s 56us/step - loss: 0.0843 - acc: 0.9725 - val_loss: 3.3309 - val_acc: 0.5375\n",
      "Epoch 49/100\n",
      "50000/50000 [==============================] - 3s 56us/step - loss: 0.0993 - acc: 0.9676 - val_loss: 3.4108 - val_acc: 0.5366\n",
      "Epoch 50/100\n",
      "50000/50000 [==============================] - 3s 56us/step - loss: 0.1097 - acc: 0.9657 - val_loss: 3.3300 - val_acc: 0.5329\n",
      "Epoch 51/100\n",
      "50000/50000 [==============================] - 3s 56us/step - loss: 0.0910 - acc: 0.9703 - val_loss: 3.4648 - val_acc: 0.5335\n",
      "Epoch 52/100\n",
      "50000/50000 [==============================] - 3s 56us/step - loss: 0.0903 - acc: 0.9710 - val_loss: 3.3283 - val_acc: 0.5392\n",
      "Epoch 53/100\n",
      "50000/50000 [==============================] - 3s 56us/step - loss: 0.0886 - acc: 0.9712 - val_loss: 3.4307 - val_acc: 0.5488\n",
      "Epoch 54/100\n",
      "50000/50000 [==============================] - 3s 56us/step - loss: 0.0794 - acc: 0.9737 - val_loss: 3.4422 - val_acc: 0.5430\n",
      "Epoch 55/100\n",
      "50000/50000 [==============================] - 3s 56us/step - loss: 0.0877 - acc: 0.9721 - val_loss: 3.4266 - val_acc: 0.5366\n"
     ]
    },
    {
     "name": "stdout",
     "output_type": "stream",
     "text": [
      "Epoch 56/100\n",
      "50000/50000 [==============================] - 3s 56us/step - loss: 0.0904 - acc: 0.9707 - val_loss: 3.2613 - val_acc: 0.5413\n",
      "Epoch 57/100\n",
      "50000/50000 [==============================] - 3s 56us/step - loss: 0.0838 - acc: 0.9730 - val_loss: 3.3641 - val_acc: 0.5392\n",
      "Epoch 58/100\n",
      "50000/50000 [==============================] - 3s 56us/step - loss: 0.0768 - acc: 0.9748 - val_loss: 3.4585 - val_acc: 0.5376\n",
      "Epoch 59/100\n",
      "50000/50000 [==============================] - 3s 56us/step - loss: 0.0797 - acc: 0.9752 - val_loss: 3.3359 - val_acc: 0.5376\n",
      "Epoch 60/100\n",
      "50000/50000 [==============================] - 3s 56us/step - loss: 0.0757 - acc: 0.9760 - val_loss: 3.4546 - val_acc: 0.5434\n",
      "Epoch 61/100\n",
      "50000/50000 [==============================] - 3s 56us/step - loss: 0.0714 - acc: 0.9772 - val_loss: 3.5338 - val_acc: 0.5370\n",
      "Epoch 62/100\n",
      "50000/50000 [==============================] - 3s 56us/step - loss: 0.0887 - acc: 0.9725 - val_loss: 3.3490 - val_acc: 0.5420\n",
      "Epoch 63/100\n",
      "50000/50000 [==============================] - 3s 57us/step - loss: 0.0786 - acc: 0.9761 - val_loss: 3.3667 - val_acc: 0.5394\n",
      "Epoch 64/100\n",
      "50000/50000 [==============================] - 3s 57us/step - loss: 0.0781 - acc: 0.9758 - val_loss: 3.3340 - val_acc: 0.5443\n",
      "Epoch 65/100\n",
      "50000/50000 [==============================] - 3s 57us/step - loss: 0.0755 - acc: 0.9762 - val_loss: 3.4551 - val_acc: 0.5355\n",
      "Epoch 66/100\n",
      "50000/50000 [==============================] - 3s 58us/step - loss: 0.0744 - acc: 0.9765 - val_loss: 3.4352 - val_acc: 0.5422\n",
      "Epoch 67/100\n",
      "50000/50000 [==============================] - 3s 59us/step - loss: 0.0667 - acc: 0.9790 - val_loss: 3.5040 - val_acc: 0.5376\n",
      "Epoch 68/100\n",
      "50000/50000 [==============================] - 3s 59us/step - loss: 0.0752 - acc: 0.9764 - val_loss: 3.5343 - val_acc: 0.5458\n",
      "Epoch 69/100\n",
      "50000/50000 [==============================] - 3s 58us/step - loss: 0.0681 - acc: 0.9790 - val_loss: 3.4826 - val_acc: 0.5388\n",
      "Epoch 70/100\n",
      "50000/50000 [==============================] - 3s 58us/step - loss: 0.0683 - acc: 0.9786 - val_loss: 3.4491 - val_acc: 0.5391\n",
      "Epoch 71/100\n",
      "50000/50000 [==============================] - 3s 58us/step - loss: 0.0689 - acc: 0.9781 - val_loss: 3.3261 - val_acc: 0.5395\n",
      "Epoch 72/100\n",
      "50000/50000 [==============================] - 3s 58us/step - loss: 0.0732 - acc: 0.9769 - val_loss: 3.4315 - val_acc: 0.5411\n",
      "Epoch 73/100\n",
      "50000/50000 [==============================] - 3s 58us/step - loss: 0.0635 - acc: 0.9793 - val_loss: 3.4926 - val_acc: 0.5354\n",
      "Epoch 74/100\n",
      "50000/50000 [==============================] - 3s 58us/step - loss: 0.0565 - acc: 0.9816 - val_loss: 3.5178 - val_acc: 0.5335\n",
      "Epoch 75/100\n",
      "50000/50000 [==============================] - 3s 58us/step - loss: 0.0648 - acc: 0.9805 - val_loss: 3.4664 - val_acc: 0.5439\n",
      "Epoch 76/100\n",
      "50000/50000 [==============================] - 3s 58us/step - loss: 0.0762 - acc: 0.9763 - val_loss: 3.2161 - val_acc: 0.5416\n",
      "Epoch 77/100\n",
      "50000/50000 [==============================] - 3s 58us/step - loss: 0.0558 - acc: 0.9824 - val_loss: 3.4981 - val_acc: 0.5408\n",
      "Epoch 78/100\n",
      "50000/50000 [==============================] - 3s 58us/step - loss: 0.0557 - acc: 0.9822 - val_loss: 3.4842 - val_acc: 0.5439\n",
      "Epoch 79/100\n",
      "50000/50000 [==============================] - 3s 59us/step - loss: 0.0647 - acc: 0.9798 - val_loss: 3.4493 - val_acc: 0.5350\n",
      "Epoch 80/100\n",
      "50000/50000 [==============================] - 3s 58us/step - loss: 0.0668 - acc: 0.9792 - val_loss: 3.4623 - val_acc: 0.5374\n",
      "Epoch 81/100\n",
      "50000/50000 [==============================] - 3s 58us/step - loss: 0.0543 - acc: 0.9836 - val_loss: 3.5029 - val_acc: 0.5449\n",
      "Epoch 82/100\n",
      "50000/50000 [==============================] - 3s 59us/step - loss: 0.0469 - acc: 0.9851 - val_loss: 3.5879 - val_acc: 0.5388\n",
      "Epoch 83/100\n",
      "50000/50000 [==============================] - 3s 57us/step - loss: 0.0699 - acc: 0.9783 - val_loss: 3.3379 - val_acc: 0.5363\n",
      "Epoch 84/100\n",
      "50000/50000 [==============================] - 3s 57us/step - loss: 0.0552 - acc: 0.9834 - val_loss: 3.4230 - val_acc: 0.5420\n",
      "Epoch 85/100\n",
      "50000/50000 [==============================] - 3s 57us/step - loss: 0.0575 - acc: 0.9816 - val_loss: 3.4674 - val_acc: 0.5427\n",
      "Epoch 86/100\n",
      "50000/50000 [==============================] - 3s 56us/step - loss: 0.0590 - acc: 0.9818 - val_loss: 3.5801 - val_acc: 0.5386\n",
      "Epoch 87/100\n",
      "50000/50000 [==============================] - 3s 56us/step - loss: 0.0687 - acc: 0.9795 - val_loss: 3.4527 - val_acc: 0.5343\n",
      "Epoch 88/100\n",
      "50000/50000 [==============================] - 3s 56us/step - loss: 0.0538 - acc: 0.9837 - val_loss: 3.5721 - val_acc: 0.5377\n",
      "Epoch 89/100\n",
      "50000/50000 [==============================] - 3s 57us/step - loss: 0.0563 - acc: 0.9836 - val_loss: 3.5920 - val_acc: 0.5412\n",
      "Epoch 90/100\n",
      "50000/50000 [==============================] - 3s 57us/step - loss: 0.0532 - acc: 0.9832 - val_loss: 3.5800 - val_acc: 0.5330\n",
      "Epoch 91/100\n",
      "50000/50000 [==============================] - 3s 57us/step - loss: 0.0565 - acc: 0.9828 - val_loss: 3.5299 - val_acc: 0.5326\n",
      "Epoch 92/100\n",
      "50000/50000 [==============================] - 3s 57us/step - loss: 0.0642 - acc: 0.9803 - val_loss: 3.4558 - val_acc: 0.5393\n",
      "Epoch 93/100\n",
      "50000/50000 [==============================] - 3s 58us/step - loss: 0.0607 - acc: 0.9812 - val_loss: 3.4270 - val_acc: 0.5422\n",
      "Epoch 94/100\n",
      "50000/50000 [==============================] - 3s 58us/step - loss: 0.0406 - acc: 0.9872 - val_loss: 3.5712 - val_acc: 0.5381\n",
      "Epoch 95/100\n",
      "50000/50000 [==============================] - 3s 58us/step - loss: 0.0617 - acc: 0.9804 - val_loss: 3.5378 - val_acc: 0.5423\n",
      "Epoch 96/100\n",
      "50000/50000 [==============================] - 3s 59us/step - loss: 0.0385 - acc: 0.9882 - val_loss: 3.5667 - val_acc: 0.5397\n",
      "Epoch 97/100\n",
      "50000/50000 [==============================] - 3s 60us/step - loss: 0.0592 - acc: 0.9823 - val_loss: 3.2411 - val_acc: 0.5444\n",
      "Epoch 98/100\n",
      "50000/50000 [==============================] - 3s 57us/step - loss: 0.0499 - acc: 0.9846 - val_loss: 3.6216 - val_acc: 0.5420\n",
      "Epoch 99/100\n",
      "50000/50000 [==============================] - 3s 57us/step - loss: 0.0566 - acc: 0.9830 - val_loss: 3.6320 - val_acc: 0.5448\n",
      "Epoch 100/100\n",
      "50000/50000 [==============================] - 3s 57us/step - loss: 0.0488 - acc: 0.9847 - val_loss: 3.5735 - val_acc: 0.5406\n"
     ]
    },
    {
     "data": {
      "text/plain": [
       "<keras.callbacks.History at 0x256bd687d48>"
      ]
     },
     "execution_count": 19,
     "metadata": {},
     "output_type": "execute_result"
    }
   ],
   "source": [
    "model.fit(x_train, y_train, \n",
    "          epochs=EPOCHS, \n",
    "          batch_size=BATCH_SIZE, \n",
    "          validation_data=(x_test, y_test), \n",
    "          shuffle=True)"
   ]
  },
  {
   "cell_type": "code",
   "execution_count": 21,
   "metadata": {},
   "outputs": [
    {
     "ename": "AttributeError",
     "evalue": "module 'keras' has no attribute '_get_available_gpus'",
     "output_type": "error",
     "traceback": [
      "\u001b[1;31m---------------------------------------------------------------------------\u001b[0m",
      "\u001b[1;31mAttributeError\u001b[0m                            Traceback (most recent call last)",
      "\u001b[1;32m<ipython-input-21-ecf15a5d0374>\u001b[0m in \u001b[0;36m<module>\u001b[1;34m\u001b[0m\n\u001b[1;32m----> 1\u001b[1;33m \u001b[0mkeras\u001b[0m\u001b[1;33m.\u001b[0m\u001b[0m_get_available_gpus\u001b[0m\u001b[1;33m(\u001b[0m\u001b[1;33m)\u001b[0m\u001b[1;33m\u001b[0m\u001b[1;33m\u001b[0m\u001b[0m\n\u001b[0m",
      "\u001b[1;31mAttributeError\u001b[0m: module 'keras' has no attribute '_get_available_gpus'"
     ]
    }
   ],
   "source": [
    "keras._get_available_gpus()"
   ]
  },
  {
   "cell_type": "code",
   "execution_count": 22,
   "metadata": {},
   "outputs": [
    {
     "data": {
      "image/png": "[encoded data removed]",
      "text/plain": [
       "<Figure size 432x288 with 1 Axes>"
      ]
     },
     "metadata": {
      "needs_background": "light"
     },
     "output_type": "display_data"
    },
    {
     "data": {
      "image/png": "[encoded data removed]",
      "text/plain": [
       "<Figure size 432x288 with 1 Axes>"
      ]
     },
     "metadata": {
      "needs_background": "light"
     },
     "output_type": "display_data"
    }
   ],
   "source": [
    "import matplotlib.pyplot as plt\n",
    "\n",
    "\n",
    "train_loss = model.history.history[\"loss\"]\n",
    "valid_loss = model.history.history[\"val_loss\"]\n",
    "\n",
    "train_acc = model.history.history[\"acc\"]\n",
    "valid_acc = model.history.history[\"val_acc\"]\n",
    "\n",
    "plt.plot(range(len(train_loss)), train_loss, label=\"train loss\")\n",
    "plt.plot(range(len(valid_loss)), valid_loss, label=\"valid loss\")\n",
    "plt.legend()\n",
    "plt.title(\"Loss\")\n",
    "plt.show()\n",
    "\n",
    "plt.plot(range(len(train_acc)), train_acc, label=\"train accuracy\")\n",
    "plt.plot(range(len(valid_acc)), valid_acc, label=\"valid accuracy\")\n",
    "plt.legend()\n",
    "plt.title(\"Accuracy\")\n",
    "plt.show()"
   ]
  },
  {
   "cell_type": "code",
   "execution_count": null,
   "metadata": {},
   "outputs": [],
   "source": []
  }
 ],
 "metadata": {
  "kernelspec": {
   "display_name": "Python 3",
   "language": "python",
   "name": "python3"
  },
  "language_info": {
   "codemirror_mode": {
    "name": "ipython",
    "version": 3
   },
   "file_extension": ".py",
   "mimetype": "text/x-python",
   "name": "python",
   "nbconvert_exporter": "python",
   "pygments_lexer": "ipython3",
   "version": "3.7.6"
  }
 },
 "nbformat": 4,
 "nbformat_minor": 2
}
